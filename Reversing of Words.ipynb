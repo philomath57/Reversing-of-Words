{
 "cells": [
  {
   "cell_type": "code",
   "execution_count": 5,
   "id": "e3d27278",
   "metadata": {},
   "outputs": [
    {
     "name": "stdout",
     "output_type": "stream",
     "text": [
      "Enter any String: Faiyaz\n",
      "z\n",
      "a\n",
      "y\n",
      "i\n",
      "a\n",
      "F\n"
     ]
    }
   ],
   "source": [
    "count = 1\n",
    "user_input = input('Enter any String: ')\n",
    "for i in range(len(user_input)):\n",
    "    print(user_input[i-count])\n",
    "    count += 2"
   ]
  },
  {
   "cell_type": "code",
   "execution_count": null,
   "id": "c7ca11b1",
   "metadata": {},
   "outputs": [],
   "source": []
  }
 ],
 "metadata": {
  "kernelspec": {
   "display_name": "Python 3 (ipykernel)",
   "language": "python",
   "name": "python3"
  },
  "language_info": {
   "codemirror_mode": {
    "name": "ipython",
    "version": 3
   },
   "file_extension": ".py",
   "mimetype": "text/x-python",
   "name": "python",
   "nbconvert_exporter": "python",
   "pygments_lexer": "ipython3",
   "version": "3.9.7"
  }
 },
 "nbformat": 4,
 "nbformat_minor": 5
}
